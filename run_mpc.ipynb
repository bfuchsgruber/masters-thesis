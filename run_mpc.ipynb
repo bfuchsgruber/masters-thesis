{
 "cells": [
  {
   "cell_type": "markdown",
   "metadata": {},
   "source": [
    "***"
   ]
  },
  {
   "cell_type": "markdown",
   "metadata": {},
   "source": [
    "# Online Model Predictive Control Framwork (MPC)\n",
    "(Master's Thesis by Benedikt Fuchsgruber, 2024)"
   ]
  },
  {
   "cell_type": "markdown",
   "metadata": {},
   "source": [
    "***"
   ]
  },
  {
   "cell_type": "markdown",
   "metadata": {},
   "source": [
    "## Learning Objectives\n",
    "* Learn the structure of MPC and the online execution\n",
    "* Get familiar with the topic 'IoT' and its advantages\n",
    "* Learn about forecasting values with AI / NN\n",
    "* Translate the energy system of the CoSES lab into a mathematical optimization problem\n",
    "* Get an optimized operation strategy for controllable DERs"
   ]
  },
  {
   "cell_type": "markdown",
   "metadata": {},
   "source": [
    "## Targets\n",
    "* Predict behaviour for the next time step $t_{\\text{step}} = 15$ min\n",
    "* Perform MPC with past data over the last $t_{\\text{past}} = 48$ h\n",
    "* Control the BSS with the target value of timestep [-2]"
   ]
  },
  {
   "cell_type": "markdown",
   "metadata": {},
   "source": [
    "## Mathematical background\n",
    "* General optimization problem\n",
    "$$ \\min\\limits_{x} \\quad c^{T} \\cdot x $$\n",
    "$$ \\text{s.t.}     \\quad Ax \\leq b  $$\n",
    "* Variables\n",
    "$$ C = \\{ C_{\\text{bss}}, \\, C_{\\text{pv}}, \\,  C_{\\text{grid}} \\} $$\n",
    "$$ \\text{with} \\quad c \\in C $$\n",
    "$$  P = \\{ P_{\\text{bss}}, \\, P_{\\text{pv}}, \\,  P_{\\text{grid}} \\} $$\n",
    "$$ \\text{with} \\quad x \\in P $$\n",
    "* Time domain\n",
    "$$  t \\in T = \\{ 0, \\, 1, \\, ... , \\, 192 \\} \\quad 1/4 \\, \\text{h} $$\n",
    "$$ T_{\\text{m}} = T \\setminus \\{0\\} $$\n",
    "\n",
    "* Cost function\n",
    "$$ \\zeta = \\sum_{t \\, \\in \\, T_{\\text{m}}} (   \\underbrace{C_{\\text{grid,t}} \\cdot P_{\\text{grid,t}}}_\\text{Grid} + \\underbrace{C_{\\text{bss,t}} \\cdot P_{\\text{bss,t}}}_\\text{Battery} + \\underbrace{C_{\\text{pv,t}} \\cdot P_{\\text{pv,t}}}_\\text{PV}   ) $$"
   ]
  },
  {
   "cell_type": "markdown",
   "metadata": {},
   "source": [
    "<center><img src=\"img/coses-energy-process_bg.png\"/></center>"
   ]
  },
  {
   "cell_type": "markdown",
   "metadata": {},
   "source": [
    "***"
   ]
  },
  {
   "cell_type": "markdown",
   "metadata": {},
   "source": [
    "## Software Code"
   ]
  },
  {
   "cell_type": "markdown",
   "metadata": {},
   "source": [
    "***"
   ]
  },
  {
   "cell_type": "markdown",
   "metadata": {},
   "source": [
    "\n",
    "Import all modules and dependencies. \n",
    "<br>\n",
    "Therefore, all required paths are appended to the system environment. \n",
    "****"
   ]
  },
  {
   "cell_type": "code",
   "execution_count": null,
   "metadata": {},
   "outputs": [],
   "source": [
    "# Add all relevant paths\n",
    "import sys\n",
    "sys.path.append('toolkit')\n",
    "sys.path.append('prediction')\n",
    "sys.path.append('optimization')\n",
    "sys.path.append('control')\n",
    "sys.path.append('evaluation')\n",
    "sys.path.append('simulation')\n",
    "# print(sys.path)\n",
    "\n",
    "# Import the MPC-related modules\n",
    "from imports import *                       # type: ignore\n",
    "from iot_grabber import IotGrabber          # type: ignore\n",
    "from toolkit.prediction import Prediction   # type: ignore\n",
    "from toolkit.telemetry import tprint        # type: ignore\n",
    "from urbs_wrapper import UrbsWrapper        # type: ignore\n",
    "from control import control_bss             # type: ignore\n",
    "from evaluation import Evaluation           # type: ignore\n",
    "from battery import Battery                 # type: ignore\n",
    "\n",
    "# Import misc\n",
    "import pandas as pd\n",
    "import numpy as np\n",
    "import time\n",
    "import logging\n",
    "logging.getLogger('pyomo.core').setLevel(logging.ERROR)\n",
    "tprint(\"Import successfully done!\", \"INFO\")\n"
   ]
  },
  {
   "cell_type": "markdown",
   "metadata": {},
   "source": [
    "***\n",
    "Create instances / objects of the required software parts\n",
    "\n",
    "This includes:\n",
    "* The interface to the IoT-Server\n",
    "* Reload of all pre-trained prediction models\n",
    "* Configuration of the UrbsWrapper with solver and objective\n",
    "* Control interface to the batteries\n",
    "* Evaluation interface and functionalities\n",
    "***"
   ]
  },
  {
   "cell_type": "code",
   "execution_count": null,
   "metadata": {},
   "outputs": [],
   "source": [
    "# IoT Server\n",
    "iot_server = IotGrabber(ip=\"100.113.141.113\", \n",
    "                        range=\"48h\",\n",
    "                        verbose=True)\n",
    "iot_server.activate(inverter   = True) # Append the inverter\n",
    "iot_server.activate(powermeter = True) # Append the Shelly power measurements\n",
    "iot_server.activate(bss0       = True) # Append the E3DC 0\n",
    "\n",
    "# BSS 0 SoC\n",
    "soc0 = IotGrabber(ip=iot_server.getIp(), \n",
    "                 range=\"12h\",\n",
    "                 res=\"1m\",\n",
    "                 devices=[\"E3DC0SOC\"])\n",
    "\n",
    "\n",
    "\n",
    "# Prediction\n",
    "prediction_models = {\"INV1\": f\"prediction/lstm/final/LSTM-Inverter1.model\",\n",
    "                     \"INV2\": f\"prediction/lstm/final/LSTM-Inverter2.model\",\n",
    "                     \"INV3\": f\"prediction/lstm/final/LSTM-Inverter3.model\",\n",
    "                     \"SHELLY_API_SERVERROOM_POWER\": f\"prediction/lstm/final/LSTM-Serverroom.model\",\n",
    "                     \"SHELLY_API_FLOOR_POWER\": f\"prediction/lstm/final/LSTM-Floor.model\"\n",
    "                     }\n",
    "\n",
    "# Optimization\n",
    "solverpath = \"optimization/glpk-4.65/w64/glpsol\"\n",
    "urbs = UrbsWrapper(_solverpath=solverpath,\n",
    "                   _solver=\"glpk\",\n",
    "                   _objective=\"cost\",\n",
    "                   _pv_max_Wp=18.0 * 1e3,\n",
    "                   _bss_max_Wh=6000,\n",
    "                   _iot_server_soc0=soc0,\n",
    "                   _bss_strategy=\"one-only\",\n",
    "                    # _bss_strategy=\"successively\",\n",
    "                    # _bss_strategy=\"equal\",\n",
    "                   )\n",
    "\n",
    "# Controller\n",
    "control_bss0 = control_bss.Control(bss_index=0,\n",
    "                                   mqtt_broker=iot_server.getIp(),\n",
    "                                   id=5)\n",
    "\n",
    "# Evalutation\n",
    "evaluation = Evaluation(mqtt_broker=iot_server.getIp(),\n",
    "                        id=5)\n",
    "\n",
    "# SoC from battery\n",
    "# e3dc0_last_soc = soc0.getLastValue() / 100\n",
    "# tprint(f\"SoC: {e3dc0_last_soc*100} %\", \"BSS\")\n",
    "# Battery simulation\n",
    "battery_simulation = Battery(6000, 1/60, 0.317*6000)"
   ]
  },
  {
   "cell_type": "markdown",
   "metadata": {},
   "source": [
    "***\n",
    "Init the algorithm to perform the online MPC\n",
    "***"
   ]
  },
  {
   "cell_type": "code",
   "execution_count": null,
   "metadata": {},
   "outputs": [],
   "source": [
    "# Init MPC cycle time\n",
    "# delay = 15*60 # 15 min\n",
    "delay = 1*60 # 1 min\n",
    "duration_counter = 1\n",
    "time_last_duration = time.time() - (1 * delay)\n",
    "\n",
    "# Init BSS power targets\n",
    "bss_target0 = 0.0\n",
    "bss_target1 = 0.0\n",
    "\n",
    "# Simulation flag (ON: 1.0 - OFF: 0.0)\n",
    "globalSimulation = 1.0"
   ]
  },
  {
   "cell_type": "markdown",
   "metadata": {},
   "source": [
    "***\n",
    "Start the while-loop to trigger the MPC\n",
    "\n",
    "Structure:\n",
    "* Calculate $\\Delta t$\n",
    "* Perform a MPC-cycle if '$\\Delta t \\ge delay$'\n",
    "* Get measurements from the central IoT-Server\n",
    "* Get the related forecasts\n",
    "* Solve the LP optimization problem\n",
    "* Control the batteries\n",
    "***"
   ]
  },
  {
   "cell_type": "code",
   "execution_count": null,
   "metadata": {},
   "outputs": [],
   "source": [
    "\n",
    "while True:\n",
    "    try:\n",
    "        # Calculate the current time and delta to last cycle\n",
    "        time_actual = time.time()\n",
    "        dT = (time_actual - time_last_duration)\n",
    "\n",
    "        # ------------------------------------ Start MPC ------------------------------------\n",
    "        if dT >= delay:\n",
    "            time_last_duration = time.time()\n",
    "            tprint(f\"\\n--------------------------- CYCLE {duration_counter} ---------------------------\")\n",
    "            tprint(f\"MPC algorithm startet, cylce: {duration_counter}\", \"MPC\")\n",
    "            tprint(f\"dT: {dT:.2f} sec\", \"MPC\")\n",
    "\n",
    "            # Download new values\n",
    "            iot_server.setRange(\"48h\")\n",
    "            iot_server.setRes(f\"{delay}s\")\n",
    "            df = iot_server.get_df()\n",
    "            \n",
    "\n",
    "            # Make a new forecast for the PV and the loads\n",
    "            model_inv1 = Prediction(prediction_models[\"INV1\"],\n",
    "                                        \"INV1\",\n",
    "                                        previous_df=df,\n",
    "                                        verbose=False)\n",
    "            model_inv2 = Prediction(prediction_models[\"INV2\"],\n",
    "                                        \"INV2\",\n",
    "                                        previous_df=df,\n",
    "                                        verbose=False)\n",
    "            model_inv3 = Prediction(prediction_models[\"INV3\"],\n",
    "                                        \"INV3\",\n",
    "                                        previous_df=df,\n",
    "                                        verbose=False)\n",
    "            model_serverroom = Prediction(prediction_models[\"SHELLY_API_SERVERROOM_POWER\"],\n",
    "                                        \"SHELLY_API_SERVERROOM_POWER\",\n",
    "                                        previous_df=df,\n",
    "                                        verbose=False)\n",
    "            model_floor = Prediction(prediction_models[\"SHELLY_API_FLOOR_POWER\"],\n",
    "                                        \"SHELLY_API_FLOOR_POWER\",\n",
    "                                        previous_df=df,\n",
    "                                        verbose=False)\n",
    "            \n",
    "            forecast_inv2 = model_inv2.predict(convert_utc_to_local=True, float_output=True)\n",
    "            forecast_inv3 = model_inv3.predict(convert_utc_to_local=True, float_output=True)\n",
    "            forecast_inv1  = model_inv1.predict(convert_utc_to_local=True, float_output=True, p_inv2=forecast_inv2, p_inv3=forecast_inv3)\n",
    "            forecast_serverroom = model_serverroom.predict(convert_utc_to_local=True, float_output=True)\n",
    "            forecast_floor = model_floor.predict(convert_utc_to_local=True, float_output=True)\n",
    "\n",
    "\n",
    "            # Extrapolate the PV yield for Inverter 1\n",
    "            prediction_inv = (forecast_inv1 + forecast_inv2 + forecast_inv3)\n",
    "            prediction_demand = forecast_serverroom + forecast_floor\n",
    "\n",
    "            \n",
    "            # Forward the state of the simulation flag\n",
    "            urbs.simulation         = globalSimulation\n",
    "            control_bss0.simulation = globalSimulation\n",
    "            evaluation.simulation   = globalSimulation\n",
    "\n",
    "\n",
    "            # Run Optimization\n",
    "            urbs.set_df(df)\n",
    "            urbs.set_prediction_demand(prediction_demand)\n",
    "            urbs.set_prediction_pv(prediction_inv)\n",
    "            urbs.set_supIm_scale(1)\n",
    "            urbs.set_demand_scale(1)\n",
    "\n",
    "            urbs.bss0_lastSoC       = battery_simulation.get_soc_norm() # Simulation only!\n",
    "            # urbs.bss0_lastSoC       = soc0.getLastValue(\"E3DC0SOC\") / 100\n",
    "            \n",
    "            urbs.run()\n",
    "            bss = urbs.get_control_target(False)\n",
    "            bss_target0 = bss[0]\n",
    "            bss_target1 = bss[1]\n",
    "            control_bss0.direct_control(bss_target0) # @DEBUG\n",
    "\n",
    "\n",
    "            # Evaluate the MPC cycle\n",
    "            mpc_results = urbs.get_results()\n",
    "            evaluation.cycle(mpc_results) # @DEBUG\n",
    "\n",
    "            # Control the simulation battery\n",
    "            battery_simulation.control(bss_target0)\n",
    "\n",
    "            # Prepare duration end of this cycle\n",
    "            pass\n",
    "            # break # DEBUG\n",
    "            duration_counter += 1\n",
    "            tprint(f\"Duration time: {(time_last_duration-time_actual):.2f} sec\", \"MPC\")\n",
    "        \n",
    "        # ------------------------------------ END MPC ------------------------------------\n",
    "\n",
    "\n",
    "\n",
    "\n",
    "        # ------------------------------------ MISC TASKS ------------------------------------\n",
    "        # Always send the last BSS power target\n",
    "        control_bss0.direct_control(bss_target0, verbose=False)\n",
    "\n",
    "\n",
    "\n",
    "\n",
    "        # ------------------------------------ CYCLE DELAY ------------------------------------\n",
    "        # Short cycle delay in [sec]\n",
    "        time.sleep(1) \n",
    "\n",
    "        \n",
    "\n",
    "\n",
    "\n",
    "\n",
    "\n",
    "    except Exception as e:\n",
    "        tprint(f\"[ MPC ] Error: {e}\")\n",
    "        pass\n",
    "\n",
    "\n",
    "\n",
    "\n",
    "\n",
    "# END OF MPC PROGRAM"
   ]
  },
  {
   "cell_type": "markdown",
   "metadata": {},
   "source": [
    "***\n",
    "END OF MPC FRAMEWORK\n",
    "***"
   ]
  }
 ],
 "metadata": {
  "kernelspec": {
   "display_name": ".venv",
   "language": "python",
   "name": "python3"
  },
  "language_info": {
   "codemirror_mode": {
    "name": "ipython",
    "version": 3
   },
   "file_extension": ".py",
   "mimetype": "text/x-python",
   "name": "python",
   "nbconvert_exporter": "python",
   "pygments_lexer": "ipython3",
   "version": "3.10.0"
  }
 },
 "nbformat": 4,
 "nbformat_minor": 2
}
