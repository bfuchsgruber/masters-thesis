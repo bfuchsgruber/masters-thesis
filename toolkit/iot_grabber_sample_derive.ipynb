{
 "cells": [
  {
   "cell_type": "code",
   "execution_count": 3,
   "metadata": {},
   "outputs": [],
   "source": [
    "from iot_grabber import IotGrabber\n",
    "import os\n",
    "import numpy as np\n",
    "import pandas as pd\n",
    "\n",
    "\n",
    "ip = \"100.113.141.113\"\n",
    "\n",
    "# devices = [\"E3DC0POWER_AC0\", \"E3DC0POWER_AC1\", \"E3DC0POWER_AC2\"]\n",
    "# devices = [\"INV2\", \"INV3\"]\n",
    "# devices = [\"DIRIS_1\", \"DIRIS_2\"]\n",
    "devices = [\"SHELLY_API_FLOOR_POWER\"]\n",
    "\n",
    "time_abs_start = \"2024-06-05T00:00:00Z\"\n",
    "time_abs_end   = \"2024-11-08T23:59:00Z\"\n",
    "res = \"15m\"\n",
    "\n",
    "iot_server = IotGrabber(ip=ip,\n",
    "                      devices=devices, \n",
    "                      time_abs_start=time_abs_start,\n",
    "                      time_abs_end=time_abs_end,\n",
    "                    #   range=\"85h\",\n",
    "                      res=res,\n",
    "                      delimiter=\";\",\n",
    "                      cwd=os.getcwd()\n",
    "                      )\n",
    "\n",
    "df=iot_server.get_df()\n",
    "# iot_server.plot()\n",
    "\n",
    "inv2 = df.SHELLY_API_FLOOR_POWER.values\n",
    "maxInv2 = np.max(inv2)\n",
    "maxInv2_idx = df['SHELLY_API_FLOOR_POWER'].loc[lambda x: x==maxInv2].index\n",
    "minInv2 = np.min(inv2)\n",
    "meanInv2 = np.mean(inv2)\n",
    "pass\n"
   ]
  }
 ],
 "metadata": {
  "kernelspec": {
   "display_name": ".venv",
   "language": "python",
   "name": "python3"
  },
  "language_info": {
   "codemirror_mode": {
    "name": "ipython",
    "version": 3
   },
   "file_extension": ".py",
   "mimetype": "text/x-python",
   "name": "python",
   "nbconvert_exporter": "python",
   "pygments_lexer": "ipython3",
   "version": "3.10.0"
  }
 },
 "nbformat": 4,
 "nbformat_minor": 2
}
