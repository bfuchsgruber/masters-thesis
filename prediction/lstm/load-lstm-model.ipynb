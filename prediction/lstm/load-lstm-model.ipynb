{
 "cells": [
  {
   "cell_type": "code",
   "execution_count": null,
   "id": "f0a077a7",
   "metadata": {},
   "outputs": [],
   "source": [
    "# Imports\n",
    "import sys\n",
    "sys.path.append('../')\n",
    "sys.path.append('../../')\n",
    "from imports import *\n",
    "\n",
    "print(sys.path)"
   ]
  },
  {
   "cell_type": "code",
   "execution_count": null,
   "id": "e7d2b0cb",
   "metadata": {},
   "outputs": [],
   "source": [
    "# Load df for the last 48h from the IoT Server\n",
    "iot_server_inv2 = IotGrabber(devices=[\"INV2\"], range=\"None\", res=\"1m\", time_abs_start=\"2024-10-06T00:00:00Z\", time_abs_end=\"2024-10-23:59:00Z\")\n",
    "df_last48h_inv2 = iot_server_inv2.get_df()\n",
    "\n",
    "iot_server_serverroom = IotGrabber(devices=[\"SHELLY_API_SERVERROOM_POWER\"], range=\"48h\", res=\"1m\")\n",
    "df_last48h_serverroom = iot_server_serverroom.get_df()\n",
    "\n",
    "iot_server_floor = IotGrabber(devices=[\"SHELLY_API_FLOOR_POWER\"], range=\"48h\", res=\"1m\")\n",
    "df_last48h_floor = iot_server_floor.get_df()"
   ]
  },
  {
   "cell_type": "code",
   "execution_count": null,
   "id": "b64403df",
   "metadata": {},
   "outputs": [],
   "source": [
    "# Load LSTM models\n",
    "model_inverter = Prediction(f\"final/LSTM-Inverter2.model\",\n",
    "                            \"INV2\",\n",
    "                            previous_df=df_last48h_inv2,\n",
    "                            verbose=True)\n",
    "model_serverroom = Prediction(f\"final/LSTM-Serverroom.model\",\n",
    "                            \"SHELLY_API_SERVERROOM_POWER\",\n",
    "                            previous_df=df_last48h_serverroom,\n",
    "                            verbose=True)\n",
    "model_floor = Prediction(f\"final/LSTM-Floor.model\",\n",
    "                            \"SHELLY_API_FLOOR_POWER\",\n",
    "                            previous_df=df_last48h_floor,\n",
    "                            verbose=True)"
   ]
  },
  {
   "cell_type": "code",
   "execution_count": null,
   "id": "6612a5f3",
   "metadata": {},
   "outputs": [],
   "source": [
    "forecast_inv2 = model_inverter.predict(convert_utc_to_local=True)\n",
    "forecast_serverroom = model_serverroom.predict()\n",
    "forecast_floor = model_floor.predict()\n",
    "\n",
    "print(forecast_inv2)\n",
    "print(forecast_serverroom)\n",
    "print(forecast_floor)"
   ]
  },
  {
   "cell_type": "code",
   "execution_count": null,
   "id": "361efe01",
   "metadata": {},
   "outputs": [],
   "source": []
  },
  {
   "cell_type": "code",
   "execution_count": null,
   "id": "01dcd306",
   "metadata": {},
   "outputs": [],
   "source": []
  },
  {
   "cell_type": "code",
   "execution_count": null,
   "id": "cfd3a53a",
   "metadata": {},
   "outputs": [],
   "source": []
  },
  {
   "cell_type": "code",
   "execution_count": null,
   "id": "e7139e61",
   "metadata": {},
   "outputs": [],
   "source": []
  },
  {
   "cell_type": "code",
   "execution_count": null,
   "id": "db15b530",
   "metadata": {},
   "outputs": [],
   "source": []
  },
  {
   "cell_type": "code",
   "execution_count": null,
   "id": "33a72bdf",
   "metadata": {},
   "outputs": [],
   "source": []
  }
 ],
 "metadata": {
  "kernelspec": {
   "display_name": "Python 3",
   "language": "python",
   "name": "python3"
  },
  "language_info": {
   "codemirror_mode": {
    "name": "ipython",
    "version": 3
   },
   "file_extension": ".py",
   "mimetype": "text/x-python",
   "name": "python",
   "nbconvert_exporter": "python",
   "pygments_lexer": "ipython3",
   "version": "3.10.0"
  }
 },
 "nbformat": 4,
 "nbformat_minor": 5
}
