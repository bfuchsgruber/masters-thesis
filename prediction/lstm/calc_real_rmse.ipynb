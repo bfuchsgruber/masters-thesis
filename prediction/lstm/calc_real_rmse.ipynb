{
 "cells": [
  {
   "cell_type": "code",
   "execution_count": 1,
   "id": "f0a077a7",
   "metadata": {},
   "outputs": [
    {
     "name": "stdout",
     "output_type": "stream",
     "text": [
      "['x:\\\\git\\\\LRZ\\\\masters-thesis\\\\prediction\\\\lstm', 'c:\\\\Users\\\\BeneDesktop\\\\AppData\\\\Local\\\\Programs\\\\Python\\\\Python310\\\\python310.zip', 'c:\\\\Users\\\\BeneDesktop\\\\AppData\\\\Local\\\\Programs\\\\Python\\\\Python310\\\\DLLs', 'c:\\\\Users\\\\BeneDesktop\\\\AppData\\\\Local\\\\Programs\\\\Python\\\\Python310\\\\lib', 'c:\\\\Users\\\\BeneDesktop\\\\AppData\\\\Local\\\\Programs\\\\Python\\\\Python310', '', 'c:\\\\Users\\\\BeneDesktop\\\\AppData\\\\Local\\\\Programs\\\\Python\\\\Python310\\\\lib\\\\site-packages', 'c:\\\\Users\\\\BeneDesktop\\\\AppData\\\\Local\\\\Programs\\\\Python\\\\Python310\\\\lib\\\\site-packages\\\\win32', 'c:\\\\Users\\\\BeneDesktop\\\\AppData\\\\Local\\\\Programs\\\\Python\\\\Python310\\\\lib\\\\site-packages\\\\win32\\\\lib', 'c:\\\\Users\\\\BeneDesktop\\\\AppData\\\\Local\\\\Programs\\\\Python\\\\Python310\\\\lib\\\\site-packages\\\\Pythonwin', '../', '../../']\n"
     ]
    }
   ],
   "source": [
    "# Imports\n",
    "import sys\n",
    "sys.path.append('../')\n",
    "sys.path.append('../../')\n",
    "from imports import *\n",
    "\n",
    "print(sys.path)"
   ]
  },
  {
   "cell_type": "code",
   "execution_count": 2,
   "id": "8008a3ca",
   "metadata": {},
   "outputs": [
    {
     "name": "stdout",
     "output_type": "stream",
     "text": [
      "RMSE for LSTM-Floor.csv: 322.3497037927948\n",
      "RMSE for LSTM-Inverter2.csv: 219.89131963921545\n",
      "RMSE for LSTM-Serverroom.csv: 33.84096481287785\n",
      "RMSE mean: 192.02732941496268\n"
     ]
    }
   ],
   "source": [
    "folder = \"final\"\n",
    "prediction_csv = [\"LSTM-Floor.csv\", \"LSTM-Inverter2.csv\", \"LSTM-Serverroom.csv\"]\n",
    "rmses = list()\n",
    "\n",
    "for prediction in prediction_csv:\n",
    "    path = f\"{folder}/{prediction}\"\n",
    "    df = pd.read_csv(path, sep=\";\")\n",
    "    df.set_index(\"Date\", inplace=True)\n",
    "    rmse = calc_rmse(df.Test.values, df.Predict.values)\n",
    "    rmses.append(rmse)\n",
    "    print(f\"RMSE for {prediction}: {rmse}\")\n",
    "\n",
    "rmse_mean = sum(rmses) / len(rmses)\n",
    "print(f\"RMSE mean: {rmse_mean}\")\n"
   ]
  }
 ],
 "metadata": {
  "kernelspec": {
   "display_name": "Python 3",
   "language": "python",
   "name": "python3"
  },
  "language_info": {
   "codemirror_mode": {
    "name": "ipython",
    "version": 3
   },
   "file_extension": ".py",
   "mimetype": "text/x-python",
   "name": "python",
   "nbconvert_exporter": "python",
   "pygments_lexer": "ipython3",
   "version": "3.10.0"
  }
 },
 "nbformat": 4,
 "nbformat_minor": 5
}
